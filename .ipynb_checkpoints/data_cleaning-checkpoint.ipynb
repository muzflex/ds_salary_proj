{
 "cells": [
  {
   "cell_type": "code",
   "execution_count": 1,
   "metadata": {},
   "outputs": [],
   "source": [
    "import pandas as pd"
   ]
  },
  {
   "cell_type": "code",
   "execution_count": 2,
   "metadata": {},
   "outputs": [
    {
     "data": {
      "text/html": [
       "<div>\n",
       "<style scoped>\n",
       "    .dataframe tbody tr th:only-of-type {\n",
       "        vertical-align: middle;\n",
       "    }\n",
       "\n",
       "    .dataframe tbody tr th {\n",
       "        vertical-align: top;\n",
       "    }\n",
       "\n",
       "    .dataframe thead th {\n",
       "        text-align: right;\n",
       "    }\n",
       "</style>\n",
       "<table border=\"1\" class=\"dataframe\">\n",
       "  <thead>\n",
       "    <tr style=\"text-align: right;\">\n",
       "      <th></th>\n",
       "      <th>Job Title</th>\n",
       "      <th>Salary Estimate</th>\n",
       "      <th>Job Description</th>\n",
       "      <th>Rating</th>\n",
       "      <th>Company Name</th>\n",
       "      <th>Location</th>\n",
       "      <th>Headquarters</th>\n",
       "      <th>Size</th>\n",
       "      <th>Founded</th>\n",
       "      <th>Type of ownership</th>\n",
       "      <th>Industry</th>\n",
       "      <th>Sector</th>\n",
       "      <th>Revenue</th>\n",
       "      <th>Competitors</th>\n",
       "    </tr>\n",
       "  </thead>\n",
       "  <tbody>\n",
       "    <tr>\n",
       "      <th>0</th>\n",
       "      <td>Scientist, Clinical Data Manager</td>\n",
       "      <td>$30K - $55K (Glassdoor est.)</td>\n",
       "      <td>Job Number: 29829\\n\\nReynolds American Incorpo...</td>\n",
       "      <td>4.3</td>\n",
       "      <td>British American Tobacco\\n4.3</td>\n",
       "      <td>Winston-Salem, NC</td>\n",
       "      <td>-1</td>\n",
       "      <td>10000+ Employees</td>\n",
       "      <td>1902</td>\n",
       "      <td>Company - Public</td>\n",
       "      <td>Consumer Products Manufacturing</td>\n",
       "      <td>Manufacturing</td>\n",
       "      <td>$10+ billion (USD)</td>\n",
       "      <td>-1</td>\n",
       "    </tr>\n",
       "    <tr>\n",
       "      <th>1</th>\n",
       "      <td>Sr Scientist, Product Data Management</td>\n",
       "      <td>$53K - $108K (Glassdoor est.)</td>\n",
       "      <td>Job Number: 31636\\n\\nReynolds American Incorpo...</td>\n",
       "      <td>4.3</td>\n",
       "      <td>British American Tobacco\\n4.3</td>\n",
       "      <td>Winston-Salem, NC</td>\n",
       "      <td>-1</td>\n",
       "      <td>10000+ Employees</td>\n",
       "      <td>1902</td>\n",
       "      <td>Company - Public</td>\n",
       "      <td>Consumer Products Manufacturing</td>\n",
       "      <td>Manufacturing</td>\n",
       "      <td>$10+ billion (USD)</td>\n",
       "      <td>-1</td>\n",
       "    </tr>\n",
       "    <tr>\n",
       "      <th>2</th>\n",
       "      <td>Scientist - R&amp;D ASC</td>\n",
       "      <td>$40K - $65K (Glassdoor est.)</td>\n",
       "      <td>Job Number: 31115\\n\\nReynolds American Incorpo...</td>\n",
       "      <td>4.3</td>\n",
       "      <td>British American Tobacco\\n4.3</td>\n",
       "      <td>Memphis, TN</td>\n",
       "      <td>-1</td>\n",
       "      <td>10000+ Employees</td>\n",
       "      <td>1902</td>\n",
       "      <td>Company - Public</td>\n",
       "      <td>Consumer Products Manufacturing</td>\n",
       "      <td>Manufacturing</td>\n",
       "      <td>$10+ billion (USD)</td>\n",
       "      <td>-1</td>\n",
       "    </tr>\n",
       "    <tr>\n",
       "      <th>3</th>\n",
       "      <td>Research Scientist</td>\n",
       "      <td>-1</td>\n",
       "      <td>Responsibilities\\nIndependently develop and ex...</td>\n",
       "      <td>-1.0</td>\n",
       "      <td>Repair Biotechnologies</td>\n",
       "      <td>Syracuse, NY</td>\n",
       "      <td>-1</td>\n",
       "      <td>-1</td>\n",
       "      <td>-1</td>\n",
       "      <td>-1</td>\n",
       "      <td>-1</td>\n",
       "      <td>-1</td>\n",
       "      <td>-1</td>\n",
       "      <td>-1</td>\n",
       "    </tr>\n",
       "  </tbody>\n",
       "</table>\n",
       "</div>"
      ],
      "text/plain": [
       "                               Job Title                Salary Estimate  \\\n",
       "0       Scientist, Clinical Data Manager   $30K - $55K (Glassdoor est.)   \n",
       "1  Sr Scientist, Product Data Management  $53K - $108K (Glassdoor est.)   \n",
       "2                    Scientist - R&D ASC   $40K - $65K (Glassdoor est.)   \n",
       "3                     Research Scientist                             -1   \n",
       "\n",
       "                                     Job Description  Rating  \\\n",
       "0  Job Number: 29829\\n\\nReynolds American Incorpo...     4.3   \n",
       "1  Job Number: 31636\\n\\nReynolds American Incorpo...     4.3   \n",
       "2  Job Number: 31115\\n\\nReynolds American Incorpo...     4.3   \n",
       "3  Responsibilities\\nIndependently develop and ex...    -1.0   \n",
       "\n",
       "                    Company Name           Location  Headquarters  \\\n",
       "0  British American Tobacco\\n4.3  Winston-Salem, NC            -1   \n",
       "1  British American Tobacco\\n4.3  Winston-Salem, NC            -1   \n",
       "2  British American Tobacco\\n4.3        Memphis, TN            -1   \n",
       "3         Repair Biotechnologies       Syracuse, NY            -1   \n",
       "\n",
       "               Size  Founded Type of ownership  \\\n",
       "0  10000+ Employees     1902  Company - Public   \n",
       "1  10000+ Employees     1902  Company - Public   \n",
       "2  10000+ Employees     1902  Company - Public   \n",
       "3                -1       -1                -1   \n",
       "\n",
       "                          Industry         Sector             Revenue  \\\n",
       "0  Consumer Products Manufacturing  Manufacturing  $10+ billion (USD)   \n",
       "1  Consumer Products Manufacturing  Manufacturing  $10+ billion (USD)   \n",
       "2  Consumer Products Manufacturing  Manufacturing  $10+ billion (USD)   \n",
       "3                               -1             -1                  -1   \n",
       "\n",
       "   Competitors  \n",
       "0           -1  \n",
       "1           -1  \n",
       "2           -1  \n",
       "3           -1  "
      ]
     },
     "execution_count": 2,
     "metadata": {},
     "output_type": "execute_result"
    }
   ],
   "source": [
    "df = pd.read_csv('glassdoor_jobs.csv')\n",
    "df"
   ]
  },
  {
   "cell_type": "markdown",
   "metadata": {},
   "source": [
    "### TO DO\n",
    "\n",
    "1. Salary parsing\n",
    "2. Company name text only\n",
    "3. State field\n",
    "4. Age of company\n",
    "5. Parsing of job description (python, etc)"
   ]
  },
  {
   "cell_type": "code",
   "execution_count": 29,
   "metadata": {},
   "outputs": [],
   "source": [
    "df['Hourly'] = df['Salary Estimate'].apply(lambda x: 1 if 'per hour' in x.lower() else 0)\n",
    "df['Employer Provided'] = df['Salary Estimate'].apply(lambda x: 1 if 'employer provided salary' in x.lower() else 0)"
   ]
  },
  {
   "cell_type": "code",
   "execution_count": 30,
   "metadata": {},
   "outputs": [],
   "source": [
    "df = df[df['Salary Estimate'] != '-1']\n",
    "salary = df['Salary Estimate'].apply(lambda x: x.split('(')[0])\n",
    "minus_kd = salary.apply(lambda x: x.replace('K', '').replace('$', ''))"
   ]
  },
  {
   "cell_type": "code",
   "execution_count": 33,
   "metadata": {},
   "outputs": [],
   "source": [
    "min_hr = minus_kd.apply(lambda x: x.lower().replace('per hour', '').replace('employer provided salary', ''))\n",
    "\n",
    "df['Min Salary'] = min_hr.apply(lambda x: int(x.split('-')[0]))\n",
    "df['Max Salary'] = min_hr.apply(lambda x: int(x.split('-')[1])) \n",
    "df['Avg Salary'] = (df['Min Salary'] + df['Max Salary'])/ 2                               "
   ]
  },
  {
   "cell_type": "code",
   "execution_count": 35,
   "metadata": {},
   "outputs": [],
   "source": [
    "df['Company Text'] = df.apply(lambda x: x['Company Name'] if x['Rating'] < 0 else x['Company Name'][:-3], axis=1)"
   ]
  },
  {
   "cell_type": "code",
   "execution_count": 38,
   "metadata": {},
   "outputs": [
    {
     "data": {
      "text/plain": [
       " NC    2\n",
       " TN    1\n",
       "Name: Job State, dtype: int64"
      ]
     },
     "execution_count": 38,
     "metadata": {},
     "output_type": "execute_result"
    }
   ],
   "source": [
    "df['Job State'] = df['Location'].apply(lambda x: x.split(',')[1])\n",
    "df['Job State'].value_counts()"
   ]
  },
  {
   "cell_type": "code",
   "execution_count": 40,
   "metadata": {},
   "outputs": [],
   "source": [
    "df['Same Location'] = df.apply(lambda x: 1 if x.Location == x.Headquarters else 0, axis = 1)"
   ]
  },
  {
   "cell_type": "code",
   "execution_count": 41,
   "metadata": {},
   "outputs": [],
   "source": [
    "df['Company Age'] = df.Founded.apply(lambda x: x if x < 1 else 2021 - x)"
   ]
  },
  {
   "cell_type": "code",
   "execution_count": 42,
   "metadata": {
    "scrolled": true
   },
   "outputs": [
    {
     "data": {
      "text/html": [
       "<div>\n",
       "<style scoped>\n",
       "    .dataframe tbody tr th:only-of-type {\n",
       "        vertical-align: middle;\n",
       "    }\n",
       "\n",
       "    .dataframe tbody tr th {\n",
       "        vertical-align: top;\n",
       "    }\n",
       "\n",
       "    .dataframe thead th {\n",
       "        text-align: right;\n",
       "    }\n",
       "</style>\n",
       "<table border=\"1\" class=\"dataframe\">\n",
       "  <thead>\n",
       "    <tr style=\"text-align: right;\">\n",
       "      <th></th>\n",
       "      <th>Job Title</th>\n",
       "      <th>Salary Estimate</th>\n",
       "      <th>Job Description</th>\n",
       "      <th>Rating</th>\n",
       "      <th>Company Name</th>\n",
       "      <th>Location</th>\n",
       "      <th>Headquarters</th>\n",
       "      <th>Size</th>\n",
       "      <th>Founded</th>\n",
       "      <th>Type of ownership</th>\n",
       "      <th>...</th>\n",
       "      <th>employer_provided</th>\n",
       "      <th>Hourly</th>\n",
       "      <th>Employer Provided</th>\n",
       "      <th>Min Salary</th>\n",
       "      <th>Max Salary</th>\n",
       "      <th>Avg Salary</th>\n",
       "      <th>Company Text</th>\n",
       "      <th>Job State</th>\n",
       "      <th>Same Location</th>\n",
       "      <th>Company Age</th>\n",
       "    </tr>\n",
       "  </thead>\n",
       "  <tbody>\n",
       "    <tr>\n",
       "      <th>0</th>\n",
       "      <td>Scientist, Clinical Data Manager</td>\n",
       "      <td>$30K - $55K (Glassdoor est.)</td>\n",
       "      <td>Job Number: 29829\\n\\nReynolds American Incorpo...</td>\n",
       "      <td>4.3</td>\n",
       "      <td>British American Tobacco\\n4.3</td>\n",
       "      <td>Winston-Salem, NC</td>\n",
       "      <td>-1</td>\n",
       "      <td>10000+ Employees</td>\n",
       "      <td>1902</td>\n",
       "      <td>Company - Public</td>\n",
       "      <td>...</td>\n",
       "      <td>0</td>\n",
       "      <td>0</td>\n",
       "      <td>0</td>\n",
       "      <td>30</td>\n",
       "      <td>55</td>\n",
       "      <td>42.5</td>\n",
       "      <td>British American Tobacco\\n</td>\n",
       "      <td>NC</td>\n",
       "      <td>0</td>\n",
       "      <td>119</td>\n",
       "    </tr>\n",
       "    <tr>\n",
       "      <th>1</th>\n",
       "      <td>Sr Scientist, Product Data Management</td>\n",
       "      <td>$53K - $108K (Glassdoor est.)</td>\n",
       "      <td>Job Number: 31636\\n\\nReynolds American Incorpo...</td>\n",
       "      <td>4.3</td>\n",
       "      <td>British American Tobacco\\n4.3</td>\n",
       "      <td>Winston-Salem, NC</td>\n",
       "      <td>-1</td>\n",
       "      <td>10000+ Employees</td>\n",
       "      <td>1902</td>\n",
       "      <td>Company - Public</td>\n",
       "      <td>...</td>\n",
       "      <td>0</td>\n",
       "      <td>0</td>\n",
       "      <td>0</td>\n",
       "      <td>53</td>\n",
       "      <td>108</td>\n",
       "      <td>80.5</td>\n",
       "      <td>British American Tobacco\\n</td>\n",
       "      <td>NC</td>\n",
       "      <td>0</td>\n",
       "      <td>119</td>\n",
       "    </tr>\n",
       "    <tr>\n",
       "      <th>2</th>\n",
       "      <td>Scientist - R&amp;D ASC</td>\n",
       "      <td>$40K - $65K (Glassdoor est.)</td>\n",
       "      <td>Job Number: 31115\\n\\nReynolds American Incorpo...</td>\n",
       "      <td>4.3</td>\n",
       "      <td>British American Tobacco\\n4.3</td>\n",
       "      <td>Memphis, TN</td>\n",
       "      <td>-1</td>\n",
       "      <td>10000+ Employees</td>\n",
       "      <td>1902</td>\n",
       "      <td>Company - Public</td>\n",
       "      <td>...</td>\n",
       "      <td>0</td>\n",
       "      <td>0</td>\n",
       "      <td>0</td>\n",
       "      <td>40</td>\n",
       "      <td>65</td>\n",
       "      <td>52.5</td>\n",
       "      <td>British American Tobacco\\n</td>\n",
       "      <td>TN</td>\n",
       "      <td>0</td>\n",
       "      <td>119</td>\n",
       "    </tr>\n",
       "  </tbody>\n",
       "</table>\n",
       "<p>3 rows × 25 columns</p>\n",
       "</div>"
      ],
      "text/plain": [
       "                               Job Title                Salary Estimate  \\\n",
       "0       Scientist, Clinical Data Manager   $30K - $55K (Glassdoor est.)   \n",
       "1  Sr Scientist, Product Data Management  $53K - $108K (Glassdoor est.)   \n",
       "2                    Scientist - R&D ASC   $40K - $65K (Glassdoor est.)   \n",
       "\n",
       "                                     Job Description  Rating  \\\n",
       "0  Job Number: 29829\\n\\nReynolds American Incorpo...     4.3   \n",
       "1  Job Number: 31636\\n\\nReynolds American Incorpo...     4.3   \n",
       "2  Job Number: 31115\\n\\nReynolds American Incorpo...     4.3   \n",
       "\n",
       "                    Company Name           Location  Headquarters  \\\n",
       "0  British American Tobacco\\n4.3  Winston-Salem, NC            -1   \n",
       "1  British American Tobacco\\n4.3  Winston-Salem, NC            -1   \n",
       "2  British American Tobacco\\n4.3        Memphis, TN            -1   \n",
       "\n",
       "               Size  Founded Type of ownership  ... employer_provided Hourly  \\\n",
       "0  10000+ Employees     1902  Company - Public  ...                 0      0   \n",
       "1  10000+ Employees     1902  Company - Public  ...                 0      0   \n",
       "2  10000+ Employees     1902  Company - Public  ...                 0      0   \n",
       "\n",
       "  Employer Provided  Min Salary  Max Salary  Avg Salary  \\\n",
       "0                 0          30          55        42.5   \n",
       "1                 0          53         108        80.5   \n",
       "2                 0          40          65        52.5   \n",
       "\n",
       "                 Company Text  Job State  Same Location  Company Age  \n",
       "0  British American Tobacco\\n         NC              0          119  \n",
       "1  British American Tobacco\\n         NC              0          119  \n",
       "2  British American Tobacco\\n         TN              0          119  \n",
       "\n",
       "[3 rows x 25 columns]"
      ]
     },
     "execution_count": 42,
     "metadata": {},
     "output_type": "execute_result"
    }
   ],
   "source": [
    "df"
   ]
  },
  {
   "cell_type": "markdown",
   "metadata": {},
   "source": [
    "### Parsing Job Description"
   ]
  },
  {
   "cell_type": "code",
   "execution_count": 44,
   "metadata": {},
   "outputs": [
    {
     "data": {
      "text/plain": [
       "0    3\n",
       "Name: Python Job, dtype: int64"
      ]
     },
     "execution_count": 44,
     "metadata": {},
     "output_type": "execute_result"
    }
   ],
   "source": [
    "#Python\n",
    "df['Python Job'] = df['Job Description'].apply(lambda x: 1 if 'python' in x.lower() else 0)\n",
    "df['Python Job'].value_counts()"
   ]
  },
  {
   "cell_type": "code",
   "execution_count": 45,
   "metadata": {},
   "outputs": [
    {
     "data": {
      "text/plain": [
       "0    3\n",
       "Name: R-Studio Job, dtype: int64"
      ]
     },
     "execution_count": 45,
     "metadata": {},
     "output_type": "execute_result"
    }
   ],
   "source": [
    "#R-Studio\n",
    "df['R-Studio Job'] = df['Job Description'].apply(lambda x: 1 if 'r studio' in x.lower() or 'r-studio' in x.lower() else 0)\n",
    "df['R-Studio Job'].value_counts()"
   ]
  },
  {
   "cell_type": "code",
   "execution_count": 46,
   "metadata": {},
   "outputs": [
    {
     "data": {
      "text/plain": [
       "0    3\n",
       "Name: Spark Job, dtype: int64"
      ]
     },
     "execution_count": 46,
     "metadata": {},
     "output_type": "execute_result"
    }
   ],
   "source": [
    "# Spark\n",
    "df['Spark Job'] = df['Job Description'].apply(lambda x: 1 if 'spark' in x.lower() else 0)\n",
    "df['Spark Job'].value_counts()"
   ]
  },
  {
   "cell_type": "code",
   "execution_count": 47,
   "metadata": {},
   "outputs": [
    {
     "data": {
      "text/plain": [
       "0    3\n",
       "Name: AWS Job, dtype: int64"
      ]
     },
     "execution_count": 47,
     "metadata": {},
     "output_type": "execute_result"
    }
   ],
   "source": [
    "# AWS\n",
    "df['AWS Job'] = df['Job Description'].apply(lambda x: 1 if 'aws' in x.lower() else 0)\n",
    "df['AWS Job'].value_counts()"
   ]
  },
  {
   "cell_type": "code",
   "execution_count": 48,
   "metadata": {},
   "outputs": [
    {
     "data": {
      "text/plain": [
       "1    3\n",
       "Name: Excel Job, dtype: int64"
      ]
     },
     "execution_count": 48,
     "metadata": {},
     "output_type": "execute_result"
    }
   ],
   "source": [
    "# Excel\n",
    "df['Excel Job'] = df['Job Description'].apply(lambda x: 1 if 'excel' in x.lower() else 0)\n",
    "df['Excel Job'].value_counts()"
   ]
  },
  {
   "cell_type": "code",
   "execution_count": null,
   "metadata": {},
   "outputs": [],
   "source": []
  },
  {
   "cell_type": "code",
   "execution_count": null,
   "metadata": {},
   "outputs": [],
   "source": []
  },
  {
   "cell_type": "code",
   "execution_count": null,
   "metadata": {},
   "outputs": [],
   "source": []
  },
  {
   "cell_type": "code",
   "execution_count": 25,
   "metadata": {},
   "outputs": [
    {
     "data": {
      "text/plain": [
       "0     30 - 55 \n",
       "1    53 - 108 \n",
       "2     40 - 65 \n",
       "Name: Salary Estimate, dtype: object"
      ]
     },
     "execution_count": 25,
     "metadata": {},
     "output_type": "execute_result"
    }
   ],
   "source": [
    "minus_kd"
   ]
  },
  {
   "cell_type": "code",
   "execution_count": 26,
   "metadata": {},
   "outputs": [
    {
     "data": {
      "text/html": [
       "<div>\n",
       "<style scoped>\n",
       "    .dataframe tbody tr th:only-of-type {\n",
       "        vertical-align: middle;\n",
       "    }\n",
       "\n",
       "    .dataframe tbody tr th {\n",
       "        vertical-align: top;\n",
       "    }\n",
       "\n",
       "    .dataframe thead th {\n",
       "        text-align: right;\n",
       "    }\n",
       "</style>\n",
       "<table border=\"1\" class=\"dataframe\">\n",
       "  <thead>\n",
       "    <tr style=\"text-align: right;\">\n",
       "      <th></th>\n",
       "      <th>Job Title</th>\n",
       "      <th>Salary Estimate</th>\n",
       "      <th>Job Description</th>\n",
       "      <th>Rating</th>\n",
       "      <th>Company Name</th>\n",
       "      <th>Location</th>\n",
       "      <th>Headquarters</th>\n",
       "      <th>Size</th>\n",
       "      <th>Founded</th>\n",
       "      <th>Type of ownership</th>\n",
       "      <th>Industry</th>\n",
       "      <th>Sector</th>\n",
       "      <th>Revenue</th>\n",
       "      <th>Competitors</th>\n",
       "      <th>hourly</th>\n",
       "      <th>employer_provided</th>\n",
       "      <th>Hourly</th>\n",
       "      <th>Employer Provided</th>\n",
       "    </tr>\n",
       "  </thead>\n",
       "  <tbody>\n",
       "    <tr>\n",
       "      <th>0</th>\n",
       "      <td>Scientist, Clinical Data Manager</td>\n",
       "      <td>$30K - $55K (Glassdoor est.)</td>\n",
       "      <td>Job Number: 29829\\n\\nReynolds American Incorpo...</td>\n",
       "      <td>4.3</td>\n",
       "      <td>British American Tobacco\\n4.3</td>\n",
       "      <td>Winston-Salem, NC</td>\n",
       "      <td>-1</td>\n",
       "      <td>10000+ Employees</td>\n",
       "      <td>1902</td>\n",
       "      <td>Company - Public</td>\n",
       "      <td>Consumer Products Manufacturing</td>\n",
       "      <td>Manufacturing</td>\n",
       "      <td>$10+ billion (USD)</td>\n",
       "      <td>-1</td>\n",
       "      <td>0</td>\n",
       "      <td>0</td>\n",
       "      <td>0</td>\n",
       "      <td>0</td>\n",
       "    </tr>\n",
       "    <tr>\n",
       "      <th>1</th>\n",
       "      <td>Sr Scientist, Product Data Management</td>\n",
       "      <td>$53K - $108K (Glassdoor est.)</td>\n",
       "      <td>Job Number: 31636\\n\\nReynolds American Incorpo...</td>\n",
       "      <td>4.3</td>\n",
       "      <td>British American Tobacco\\n4.3</td>\n",
       "      <td>Winston-Salem, NC</td>\n",
       "      <td>-1</td>\n",
       "      <td>10000+ Employees</td>\n",
       "      <td>1902</td>\n",
       "      <td>Company - Public</td>\n",
       "      <td>Consumer Products Manufacturing</td>\n",
       "      <td>Manufacturing</td>\n",
       "      <td>$10+ billion (USD)</td>\n",
       "      <td>-1</td>\n",
       "      <td>0</td>\n",
       "      <td>0</td>\n",
       "      <td>0</td>\n",
       "      <td>0</td>\n",
       "    </tr>\n",
       "    <tr>\n",
       "      <th>2</th>\n",
       "      <td>Scientist - R&amp;D ASC</td>\n",
       "      <td>$40K - $65K (Glassdoor est.)</td>\n",
       "      <td>Job Number: 31115\\n\\nReynolds American Incorpo...</td>\n",
       "      <td>4.3</td>\n",
       "      <td>British American Tobacco\\n4.3</td>\n",
       "      <td>Memphis, TN</td>\n",
       "      <td>-1</td>\n",
       "      <td>10000+ Employees</td>\n",
       "      <td>1902</td>\n",
       "      <td>Company - Public</td>\n",
       "      <td>Consumer Products Manufacturing</td>\n",
       "      <td>Manufacturing</td>\n",
       "      <td>$10+ billion (USD)</td>\n",
       "      <td>-1</td>\n",
       "      <td>0</td>\n",
       "      <td>0</td>\n",
       "      <td>0</td>\n",
       "      <td>0</td>\n",
       "    </tr>\n",
       "  </tbody>\n",
       "</table>\n",
       "</div>"
      ],
      "text/plain": [
       "                               Job Title                Salary Estimate  \\\n",
       "0       Scientist, Clinical Data Manager   $30K - $55K (Glassdoor est.)   \n",
       "1  Sr Scientist, Product Data Management  $53K - $108K (Glassdoor est.)   \n",
       "2                    Scientist - R&D ASC   $40K - $65K (Glassdoor est.)   \n",
       "\n",
       "                                     Job Description  Rating  \\\n",
       "0  Job Number: 29829\\n\\nReynolds American Incorpo...     4.3   \n",
       "1  Job Number: 31636\\n\\nReynolds American Incorpo...     4.3   \n",
       "2  Job Number: 31115\\n\\nReynolds American Incorpo...     4.3   \n",
       "\n",
       "                    Company Name           Location  Headquarters  \\\n",
       "0  British American Tobacco\\n4.3  Winston-Salem, NC            -1   \n",
       "1  British American Tobacco\\n4.3  Winston-Salem, NC            -1   \n",
       "2  British American Tobacco\\n4.3        Memphis, TN            -1   \n",
       "\n",
       "               Size  Founded Type of ownership  \\\n",
       "0  10000+ Employees     1902  Company - Public   \n",
       "1  10000+ Employees     1902  Company - Public   \n",
       "2  10000+ Employees     1902  Company - Public   \n",
       "\n",
       "                          Industry         Sector             Revenue  \\\n",
       "0  Consumer Products Manufacturing  Manufacturing  $10+ billion (USD)   \n",
       "1  Consumer Products Manufacturing  Manufacturing  $10+ billion (USD)   \n",
       "2  Consumer Products Manufacturing  Manufacturing  $10+ billion (USD)   \n",
       "\n",
       "   Competitors  hourly  employer_provided  Hourly  Employer Provided  \n",
       "0           -1       0                  0       0                  0  \n",
       "1           -1       0                  0       0                  0  \n",
       "2           -1       0                  0       0                  0  "
      ]
     },
     "execution_count": 26,
     "metadata": {},
     "output_type": "execute_result"
    }
   ],
   "source": [
    "df"
   ]
  },
  {
   "cell_type": "code",
   "execution_count": null,
   "metadata": {},
   "outputs": [],
   "source": []
  },
  {
   "cell_type": "code",
   "execution_count": null,
   "metadata": {},
   "outputs": [],
   "source": []
  },
  {
   "cell_type": "code",
   "execution_count": 6,
   "metadata": {},
   "outputs": [
    {
     "data": {
      "text/html": [
       "<div>\n",
       "<style scoped>\n",
       "    .dataframe tbody tr th:only-of-type {\n",
       "        vertical-align: middle;\n",
       "    }\n",
       "\n",
       "    .dataframe tbody tr th {\n",
       "        vertical-align: top;\n",
       "    }\n",
       "\n",
       "    .dataframe thead th {\n",
       "        text-align: right;\n",
       "    }\n",
       "</style>\n",
       "<table border=\"1\" class=\"dataframe\">\n",
       "  <thead>\n",
       "    <tr style=\"text-align: right;\">\n",
       "      <th></th>\n",
       "      <th>Job Title</th>\n",
       "      <th>Salary Estimate</th>\n",
       "      <th>Job Description</th>\n",
       "      <th>Rating</th>\n",
       "      <th>Company Name</th>\n",
       "      <th>Location</th>\n",
       "      <th>Headquarters</th>\n",
       "      <th>Size</th>\n",
       "      <th>Founded</th>\n",
       "      <th>Type of ownership</th>\n",
       "      <th>Industry</th>\n",
       "      <th>Sector</th>\n",
       "      <th>Revenue</th>\n",
       "      <th>Competitors</th>\n",
       "    </tr>\n",
       "  </thead>\n",
       "  <tbody>\n",
       "    <tr>\n",
       "      <th>0</th>\n",
       "      <td>Scientist, Clinical Data Manager</td>\n",
       "      <td>$30K - $55K (Glassdoor est.)</td>\n",
       "      <td>Job Number: 29829\\n\\nReynolds American Incorpo...</td>\n",
       "      <td>4.3</td>\n",
       "      <td>British American Tobacco\\n4.3</td>\n",
       "      <td>Winston-Salem, NC</td>\n",
       "      <td>-1</td>\n",
       "      <td>10000+ Employees</td>\n",
       "      <td>1902</td>\n",
       "      <td>Company - Public</td>\n",
       "      <td>Consumer Products Manufacturing</td>\n",
       "      <td>Manufacturing</td>\n",
       "      <td>$10+ billion (USD)</td>\n",
       "      <td>-1</td>\n",
       "    </tr>\n",
       "    <tr>\n",
       "      <th>1</th>\n",
       "      <td>Sr Scientist, Product Data Management</td>\n",
       "      <td>$53K - $108K (Glassdoor est.)</td>\n",
       "      <td>Job Number: 31636\\n\\nReynolds American Incorpo...</td>\n",
       "      <td>4.3</td>\n",
       "      <td>British American Tobacco\\n4.3</td>\n",
       "      <td>Winston-Salem, NC</td>\n",
       "      <td>-1</td>\n",
       "      <td>10000+ Employees</td>\n",
       "      <td>1902</td>\n",
       "      <td>Company - Public</td>\n",
       "      <td>Consumer Products Manufacturing</td>\n",
       "      <td>Manufacturing</td>\n",
       "      <td>$10+ billion (USD)</td>\n",
       "      <td>-1</td>\n",
       "    </tr>\n",
       "    <tr>\n",
       "      <th>2</th>\n",
       "      <td>Scientist - R&amp;D ASC</td>\n",
       "      <td>$40K - $65K (Glassdoor est.)</td>\n",
       "      <td>Job Number: 31115\\n\\nReynolds American Incorpo...</td>\n",
       "      <td>4.3</td>\n",
       "      <td>British American Tobacco\\n4.3</td>\n",
       "      <td>Memphis, TN</td>\n",
       "      <td>-1</td>\n",
       "      <td>10000+ Employees</td>\n",
       "      <td>1902</td>\n",
       "      <td>Company - Public</td>\n",
       "      <td>Consumer Products Manufacturing</td>\n",
       "      <td>Manufacturing</td>\n",
       "      <td>$10+ billion (USD)</td>\n",
       "      <td>-1</td>\n",
       "    </tr>\n",
       "  </tbody>\n",
       "</table>\n",
       "</div>"
      ],
      "text/plain": [
       "                               Job Title                Salary Estimate  \\\n",
       "0       Scientist, Clinical Data Manager   $30K - $55K (Glassdoor est.)   \n",
       "1  Sr Scientist, Product Data Management  $53K - $108K (Glassdoor est.)   \n",
       "2                    Scientist - R&D ASC   $40K - $65K (Glassdoor est.)   \n",
       "\n",
       "                                     Job Description  Rating  \\\n",
       "0  Job Number: 29829\\n\\nReynolds American Incorpo...     4.3   \n",
       "1  Job Number: 31636\\n\\nReynolds American Incorpo...     4.3   \n",
       "2  Job Number: 31115\\n\\nReynolds American Incorpo...     4.3   \n",
       "\n",
       "                    Company Name           Location  Headquarters  \\\n",
       "0  British American Tobacco\\n4.3  Winston-Salem, NC            -1   \n",
       "1  British American Tobacco\\n4.3  Winston-Salem, NC            -1   \n",
       "2  British American Tobacco\\n4.3        Memphis, TN            -1   \n",
       "\n",
       "               Size  Founded Type of ownership  \\\n",
       "0  10000+ Employees     1902  Company - Public   \n",
       "1  10000+ Employees     1902  Company - Public   \n",
       "2  10000+ Employees     1902  Company - Public   \n",
       "\n",
       "                          Industry         Sector             Revenue  \\\n",
       "0  Consumer Products Manufacturing  Manufacturing  $10+ billion (USD)   \n",
       "1  Consumer Products Manufacturing  Manufacturing  $10+ billion (USD)   \n",
       "2  Consumer Products Manufacturing  Manufacturing  $10+ billion (USD)   \n",
       "\n",
       "   Competitors  \n",
       "0           -1  \n",
       "1           -1  \n",
       "2           -1  "
      ]
     },
     "execution_count": 6,
     "metadata": {},
     "output_type": "execute_result"
    }
   ],
   "source": [
    "df"
   ]
  },
  {
   "cell_type": "code",
   "execution_count": null,
   "metadata": {},
   "outputs": [],
   "source": []
  }
 ],
 "metadata": {
  "kernelspec": {
   "display_name": "Python 3",
   "language": "python",
   "name": "python3"
  },
  "language_info": {
   "codemirror_mode": {
    "name": "ipython",
    "version": 3
   },
   "file_extension": ".py",
   "mimetype": "text/x-python",
   "name": "python",
   "nbconvert_exporter": "python",
   "pygments_lexer": "ipython3",
   "version": "3.8.3"
  }
 },
 "nbformat": 4,
 "nbformat_minor": 4
}
